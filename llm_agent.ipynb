{
 "cells": [
  {
   "cell_type": "code",
   "execution_count": 1,
   "metadata": {},
   "outputs": [
    {
     "name": "stderr",
     "output_type": "stream",
     "text": [
      "/opt/anaconda3/envs/rag_projects_env/lib/python3.10/site-packages/tqdm/auto.py:21: TqdmWarning: IProgress not found. Please update jupyter and ipywidgets. See https://ipywidgets.readthedocs.io/en/stable/user_install.html\n",
      "  from .autonotebook import tqdm as notebook_tqdm\n"
     ]
    }
   ],
   "source": [
    "import os\n",
    "from dotenv import load_dotenv\n",
    "import gradio as gr\n",
    "from openai import OpenAI\n",
    "import glob"
   ]
  },
  {
   "cell_type": "code",
   "execution_count": 2,
   "metadata": {},
   "outputs": [],
   "source": [
    "MODEL_NAME = \"gpt-4o-mini\""
   ]
  },
  {
   "cell_type": "code",
   "execution_count": 50,
   "metadata": {},
   "outputs": [],
   "source": [
    "# Load the api key from .env file\n",
    "load_dotenv()\n",
    "api_key = os.getenv('OPENAI_API_KEY')\n",
    "openai = OpenAI()"
   ]
  },
  {
   "cell_type": "code",
   "execution_count": 51,
   "metadata": {},
   "outputs": [],
   "source": [
    "# Context information about employees for the agent\n",
    "\n",
    "context = {}\n",
    "employees = glob.glob(\"knowledge-base/employees/*\")\n",
    "\n",
    "for employee in employees:\n",
    "    name = employee.split(' ')[-1][:-3] # Take the last name of the employee\n",
    "    doc = \"\"\n",
    "    with open(employee, 'r') as f:\n",
    "        doc = f.read()\n",
    "    context[name] = doc\n",
    "\n"
   ]
  },
  {
   "cell_type": "code",
   "execution_count": 52,
   "metadata": {},
   "outputs": [
    {
     "name": "stdout",
     "output_type": "stream",
     "text": [
      "# HR Record\n",
      "\n",
      "# Alex Harper\n",
      "\n",
      "## Summary\n",
      "- **Date of Birth**: March 15, 1993  \n",
      "- **Job Title**: Sales Development Representative (SDR)  \n",
      "- **Location**: Denver, Colorado  \n",
      "\n",
      "## Insurellm Career Progression\n",
      "- **July 2021**: Joined Insurellm as a Sales Development Representative, focusing on lead generation and nurturing B2B relationships.  \n",
      "- **January 2022**: Promoted to Senior Sales Development Representative due to exceptional performance in converting leads into clients.  \n",
      "- **October 2022**: Completed an Internal Leadership Training Program, enhancing skills in team collaboration and strategic selling. Currently mentoring junior SDRs.  \n",
      "- **April 2023**: Became involved in a cross-departmental project to streamline the customer onboarding process, showcasing initiative and leadership.  \n",
      "\n",
      "## Annual Performance History  \n",
      "- **2021**:  \n",
      "  - **Performance Rating**: 4.5/5  \n",
      "  - **Key Achievements**: Exceeded lead generation targets by 30%. Introduced a new CRM analytics tool resulting in improved tracking of customer interactions.  \n",
      "\n",
      "- **2022**:  \n",
      "  - **Performance Rating**: 4.8/5  \n",
      "  - **Key Achievements**: Awarded \"SDR of the Year\" for outstanding contributions. Instrumental in securing 15 new B2B contracts, surpassing targets by 40%.  \n",
      "\n",
      "- **2023**:  \n",
      "  - **Performance Rating**: 4.7/5  \n",
      "  - **Key Achievements**: Played a key role in the launch of a new product line with a 25% increase in lead-to-conversion rates. Completed advanced sales negotiation training with high marks.  \n",
      "\n",
      "## Compensation History  \n",
      "- **2021**:  \n",
      "  - **Base Salary**: $55,000  \n",
      "  - **Bonus**: $5,500 (10% of base due to performance)  \n",
      "\n",
      "- **2022**:  \n",
      "  - **Base Salary**: $65,000 (Promotion to Senior SDR)  \n",
      "  - **Bonus**: $13,000 (20% of base due to performance)  \n",
      "\n",
      "- **2023**:  \n",
      "  - **Base Salary**: $75,000  \n",
      "  - **Bonus**: $15,000 (20% of base)  \n",
      "\n",
      "## Other HR Notes  \n",
      "- **Training Completed**:  \n",
      "  - CRM Analytics & Data Management Workshop (2021)  \n",
      "  - Leadership Training Program (2022)  \n",
      "  - Advanced Sales Negotiation Course (2023)  \n",
      "\n",
      "- **Awards**:  \n",
      "  - Insurellm \"SDR of the Year\" Award (2022)  \n",
      "  - Monthly MVP Recognition (3 times in 2023)  \n",
      "\n",
      "- **Interests**:  \n",
      "  - In Alex's spare time, they enjoy participating in community volunteer programs, particularly those focused on financial literacy.  \n",
      "  - Alex is also an avid runner and has participated in several charity marathons.  \n",
      "\n",
      "- **Feedback from HR**:  \n",
      "  - Alex Harper is noted for their work ethic, positive attitude, and willingness to go above and beyond for both clients and colleagues. Recognized for fostering a team spirit within the SDR team.  \n"
     ]
    }
   ],
   "source": [
    "print(context[\"Harper\"])"
   ]
  },
  {
   "cell_type": "code",
   "execution_count": 53,
   "metadata": {},
   "outputs": [
    {
     "data": {
      "text/plain": [
       "dict_keys(['Chen', 'Spencer', 'Tran', 'Blake', 'Lancaster', 'Thompson', 'Greene', 'Thomson', 'Trenton', 'Harper', 'Bishop', 'Carter'])"
      ]
     },
     "execution_count": 53,
     "metadata": {},
     "output_type": "execute_result"
    }
   ],
   "source": [
    "context.keys()"
   ]
  },
  {
   "cell_type": "code",
   "execution_count": 62,
   "metadata": {},
   "outputs": [
    {
     "name": "stdout",
     "output_type": "stream",
     "text": [
      "Name: Rellm\n",
      "Name: Markellm\n",
      "Name: Homellm\n",
      "Name: Carllm\n"
     ]
    }
   ],
   "source": [
    "# Context information about products for the agent\n",
    "\n",
    "products = glob.glob(\"knowledge-base/products/*\")\n",
    "\n",
    "for product in products:\n",
    "    name = product.split(os.sep)[-1][:-3] # Take the last name of the employee\n",
    "    print(\"Name:\", name)\n",
    "    doc = \"\"\n",
    "    with open(product, 'r') as f:\n",
    "        doc = f.read()\n",
    "    context[name] = doc"
   ]
  },
  {
   "cell_type": "code",
   "execution_count": 63,
   "metadata": {},
   "outputs": [
    {
     "name": "stdout",
     "output_type": "stream",
     "text": [
      "# Product Summary\n",
      "\n",
      "# Carllm\n",
      "\n",
      "## Summary\n",
      "\n",
      "Carllm is an innovative auto insurance product developed by Insurellm, designed to streamline the way insurance companies offer coverage to their customers. Powered by cutting-edge artificial intelligence, Carllm utilizes advanced algorithms to deliver personalized auto insurance solutions, ensuring optimal coverage while minimizing costs. With a robust infrastructure that supports both B2B and B2C customers, Carllm redefines the auto insurance landscape and empowers insurance providers to enhance customer satisfaction and retention.\n",
      "\n",
      "## Features\n",
      "\n",
      "- **AI-Powered Risk Assessment**: Carllm leverages artificial intelligence to analyze driver behavior, vehicle conditions, and historical claims data. This enables insurers to make informed decisions and set competitive premiums that reflect true risk profiles.\n",
      "\n",
      "- **Instant Quoting**: With Carllm, insurance companies can offer near-instant quotes to customers, enhancing the customer experience. The AI engine processes data in real-time, drastically reducing the time it takes to generate quotes.\n",
      "\n",
      "- **Customizable Coverage Plans**: Carllm allows insurers to create flexible and tailored insurance packages based on individual customer needs. This customization improves customer engagement and retention.\n",
      "\n",
      "- **Fraud Detection**: The product incorporates advanced analytics to identify potentially fraudulent claims, significantly reducing the risk of losses for insurance providers.\n",
      "\n",
      "- **Customer Insights Dashboard**: Carllm provides insurers with a powerful dashboard that offers deep insights into customer behavior, claims patterns, and market trends, enabling informed decision-making and strategic planning.\n",
      "\n",
      "- **Mobile Integration**: Carllm is designed to work seamlessly with mobile applications, providing both insurers and end-users access to policy management and claims reporting on the go.\n",
      "\n",
      "- **Automated Customer Support**: Leveraging AI chatbots, Carllm offers 24/7 customer support, helping to resolve inquiries quickly and efficiently, thus improving customer satisfaction.\n",
      "\n",
      "## Pricing\n",
      "\n",
      "Carllm is offered under a subscription-based pricing model tailored to meet the needs of insurance companies of all sizes. Our pricing tiers are designed to provide maximum flexibility and value:\n",
      "\n",
      "- **Basic Tier**: $1,000/month\n",
      "  - Ideal for small insurance firms.\n",
      "  - Access to core features and standard reporting.\n",
      "\n",
      "- **Professional Tier**: $2,500/month\n",
      "  - For medium-sized companies.\n",
      "  - All Basic Tier features plus advanced analytics and fraud detection.\n",
      "\n",
      "- **Enterprise Tier**: $5,000/month\n",
      "  - Customized solutions for large insurance firms.\n",
      "  - Comprehensive support, full feature access, and integration with existing systems.\n",
      "\n",
      "Contact our sales team for a personalized quote and discover how Carllm can transform your auto insurance offerings!\n",
      "\n",
      "## 2025-2026 Roadmap\n",
      "\n",
      "In our commitment to continuous improvement and innovation, Insurellm has outlined the following roadmap for Carllm:\n",
      "\n",
      "### Q1 2025: Launch Feature Enhancements\n",
      "- **Expanded data integrations** for better risk assessment.\n",
      "- **Enhanced fraud detection algorithms** to reduce losses.\n",
      "\n",
      "### Q2 2025: Customer Experience Improvements\n",
      "- Launch of a new **mobile app** for end-users.\n",
      "- Introduction of **telematics-based pricing** to provide even more tailored coverage options.\n",
      "\n",
      "### Q3 2025: Global Expansion\n",
      "- Begin pilot programs for international insurance markets.\n",
      "- Collaborate with local insurers to offer compliant, localized versions of Carllm.\n",
      "\n",
      "### Q4 2025: AI and Machine Learning Upgrades\n",
      "- Implement next-gen machine learning models for predictive analysis.\n",
      "- Roll out customer insights dashboard updates based on user feedback.\n",
      "\n",
      "### 2026: Scaling and Partnerships\n",
      "- Increase partnerships with automakers for integrated insurance solutions.\n",
      "- Enhance the **AI customer support system** to include multi-language support.\n",
      "\n",
      "Carllm is not just an auto insurance product; it is a transformative tool for the insurance industry. Join us on this exciting journey as we redefine the future of auto insurance with technology and customer-centric solutions.\n"
     ]
    }
   ],
   "source": [
    "print(context['Carllm'])\n"
   ]
  },
  {
   "cell_type": "code",
   "execution_count": 64,
   "metadata": {},
   "outputs": [],
   "source": [
    "# Set the system message\n",
    "system_message = \"You are an expert in answering accurate questions about Insurellm, the Insurance Tech company. Give brief, accurate answers. If you don't know the answer, say so. Do not make anything up if you haven't been provided with relevant context.\"\n"
   ]
  },
  {
   "cell_type": "code",
   "execution_count": 65,
   "metadata": {},
   "outputs": [
    {
     "name": "stdout",
     "output_type": "stream",
     "text": [
      "dict_keys(['Chen', 'Spencer', 'Tran', 'Blake', 'Lancaster', 'Thompson', 'Greene', 'Thomson', 'Trenton', 'Harper', 'Bishop', 'Carter', 'Rellm', 'Markellm', 'Homellm', 'Carllm'])\n"
     ]
    }
   ],
   "source": [
    "print(context.keys())"
   ]
  },
  {
   "cell_type": "code",
   "execution_count": 73,
   "metadata": {},
   "outputs": [],
   "source": [
    "# Function to retrieve relveant context based on the found word\n",
    "\n",
    "def get_relevant_context(msg):\n",
    "    relevant_context = []\n",
    "    for context_title, context_text in context.items():\n",
    "        # print(context_title)x\n",
    "        if context_title.lower() in msg.lower():\n",
    "            relevant_context.append(context_text)\n",
    "    return relevant_context"
   ]
  },
  {
   "cell_type": "code",
   "execution_count": 74,
   "metadata": {},
   "outputs": [
    {
     "name": "stdout",
     "output_type": "stream",
     "text": [
      "[\"# Product Summary\\n\\n# Rellm: AI-Powered Enterprise Reinsurance Solution\\n\\n## Summary\\n\\nRellm is an innovative enterprise reinsurance product developed by Insurellm, designed to transform the way reinsurance companies operate. Harnessing the power of artificial intelligence, Rellm offers an advanced platform that redefines risk management, enhances decision-making processes, and optimizes operational efficiencies within the reinsurance industry. With seamless integrations and robust analytics, Rellm enables insurers to proactively manage their portfolios and respond to market dynamics with agility.\\n\\n## Features\\n\\n### AI-Driven Analytics\\nRellm utilizes cutting-edge AI algorithms to provide predictive insights into risk exposures, enabling users to forecast trends and make informed decisions. Its real-time data analysis empowers reinsurance professionals with actionable intelligence.\\n\\n### Seamless Integrations\\nRellm's architecture is designed for effortless integration with existing systems. Whether it's policy management, claims processing, or financial reporting, Rellm connects seamlessly with diverse data sources to create a unified ecosystem.\\n\\n### Risk Assessment Module\\nThe comprehensive risk assessment module within Rellm allows insurers to evaluate risk profiles accurately. By leveraging historical data and advanced modeling techniques, Rellm provides a clear picture of potential liabilities and expected outcomes.\\n\\n### Customizable Dashboard\\nRellm features a customizable dashboard that presents key metrics and performance indicators in an intuitive interface. Users can tailor their view to focus on what matters most to their business, enhancing user experience and productivity.\\n\\n### Regulatory Compliance Tools\\nRellm includes built-in compliance tracking features to help organizations meet local and international regulatory standards. This ensures that reinsurance practices remain transparent and accountable.\\n\\n### Client and Broker Portals\\nRellm offers dedicated portals for both clients and brokers, facilitating real-time communication and documentation sharing. This strengthens partnerships and drives operational excellence across the board.\\n\\n## Pricing\\n\\nInsurellm offers flexible pricing plans for Rellm to cater to various business needs:\\n\\n- **Basic Plan**: $5,000/month\\n  - Includes access to core features and standard integrations.\\n  \\n- **Professional Plan**: $10,000/month\\n  - Includes all features, advanced integrations, and priority customer support.\\n  \\n- **Enterprise Plan**: Custom pricing\\n  - Tailored solutions with personalized features, extensive integrations, and dedicated account management.\\n\\nJoin the growing number of organizations leveraging Rellm to enhance their reinsurance processes while driving profitability and compliance. \\n\\n## 2025-2026 Roadmap\\n\\nAt Insurellm, we are committed to the continuous improvement of Rellm. Our roadmap for 2025-2026 includes:\\n\\n- **Q3 2025**: \\n  - Launch of the Rellm Mobile App for on-the-go insights and management.\\n  - Introduction of augmented reality (AR) features for interactive risk assessments.\\n\\n- **Q1 2026**: \\n  - Deployment of advanced machine learning models for even more accurate risk predictions.\\n  - Expansion of integration capabilities to support emerging technologies in the insurance sector.\\n\\n- **Q3 2026**: \\n  - Release of a community platform for Rellm users to exchange insights, tips, and best practices.\\n  - Launch of Rellm 2.0, featuring enhanced user interface and premium features based on user feedback.\\n\\nExperience the future of reinsurance with Rellm, where innovation meets reliability. Let Insurellm help you navigate the complexities of the reinsurance market smarter and faster.\"]\n"
     ]
    }
   ],
   "source": [
    "print(get_relevant_context(\"What is Rellm\"))"
   ]
  },
  {
   "cell_type": "code",
   "execution_count": 75,
   "metadata": {},
   "outputs": [],
   "source": [
    "# Function to add the context to the message to send to the LLM\n",
    "\n",
    "def add_context(msg):\n",
    "    relevant_context = get_relevant_context(msg)\n",
    "    if relevant_context:\n",
    "        msg += \"\\n\\nThe following additional context might be releant to the question: \\n\\n\"\n",
    "        for relvant_msg in relevant_context:\n",
    "            msg += relvant_msg + \"\\n\\n\"\n",
    "    return msg"
   ]
  },
  {
   "cell_type": "code",
   "execution_count": 76,
   "metadata": {},
   "outputs": [
    {
     "name": "stdout",
     "output_type": "stream",
     "text": [
      "What is Rellm?\n",
      "\n",
      "The following additional context might be releant to the question: \n",
      "\n",
      "# Product Summary\n",
      "\n",
      "# Rellm: AI-Powered Enterprise Reinsurance Solution\n",
      "\n",
      "## Summary\n",
      "\n",
      "Rellm is an innovative enterprise reinsurance product developed by Insurellm, designed to transform the way reinsurance companies operate. Harnessing the power of artificial intelligence, Rellm offers an advanced platform that redefines risk management, enhances decision-making processes, and optimizes operational efficiencies within the reinsurance industry. With seamless integrations and robust analytics, Rellm enables insurers to proactively manage their portfolios and respond to market dynamics with agility.\n",
      "\n",
      "## Features\n",
      "\n",
      "### AI-Driven Analytics\n",
      "Rellm utilizes cutting-edge AI algorithms to provide predictive insights into risk exposures, enabling users to forecast trends and make informed decisions. Its real-time data analysis empowers reinsurance professionals with actionable intelligence.\n",
      "\n",
      "### Seamless Integrations\n",
      "Rellm's architecture is designed for effortless integration with existing systems. Whether it's policy management, claims processing, or financial reporting, Rellm connects seamlessly with diverse data sources to create a unified ecosystem.\n",
      "\n",
      "### Risk Assessment Module\n",
      "The comprehensive risk assessment module within Rellm allows insurers to evaluate risk profiles accurately. By leveraging historical data and advanced modeling techniques, Rellm provides a clear picture of potential liabilities and expected outcomes.\n",
      "\n",
      "### Customizable Dashboard\n",
      "Rellm features a customizable dashboard that presents key metrics and performance indicators in an intuitive interface. Users can tailor their view to focus on what matters most to their business, enhancing user experience and productivity.\n",
      "\n",
      "### Regulatory Compliance Tools\n",
      "Rellm includes built-in compliance tracking features to help organizations meet local and international regulatory standards. This ensures that reinsurance practices remain transparent and accountable.\n",
      "\n",
      "### Client and Broker Portals\n",
      "Rellm offers dedicated portals for both clients and brokers, facilitating real-time communication and documentation sharing. This strengthens partnerships and drives operational excellence across the board.\n",
      "\n",
      "## Pricing\n",
      "\n",
      "Insurellm offers flexible pricing plans for Rellm to cater to various business needs:\n",
      "\n",
      "- **Basic Plan**: $5,000/month\n",
      "  - Includes access to core features and standard integrations.\n",
      "  \n",
      "- **Professional Plan**: $10,000/month\n",
      "  - Includes all features, advanced integrations, and priority customer support.\n",
      "  \n",
      "- **Enterprise Plan**: Custom pricing\n",
      "  - Tailored solutions with personalized features, extensive integrations, and dedicated account management.\n",
      "\n",
      "Join the growing number of organizations leveraging Rellm to enhance their reinsurance processes while driving profitability and compliance. \n",
      "\n",
      "## 2025-2026 Roadmap\n",
      "\n",
      "At Insurellm, we are committed to the continuous improvement of Rellm. Our roadmap for 2025-2026 includes:\n",
      "\n",
      "- **Q3 2025**: \n",
      "  - Launch of the Rellm Mobile App for on-the-go insights and management.\n",
      "  - Introduction of augmented reality (AR) features for interactive risk assessments.\n",
      "\n",
      "- **Q1 2026**: \n",
      "  - Deployment of advanced machine learning models for even more accurate risk predictions.\n",
      "  - Expansion of integration capabilities to support emerging technologies in the insurance sector.\n",
      "\n",
      "- **Q3 2026**: \n",
      "  - Release of a community platform for Rellm users to exchange insights, tips, and best practices.\n",
      "  - Launch of Rellm 2.0, featuring enhanced user interface and premium features based on user feedback.\n",
      "\n",
      "Experience the future of reinsurance with Rellm, where innovation meets reliability. Let Insurellm help you navigate the complexities of the reinsurance market smarter and faster.\n",
      "\n",
      "\n"
     ]
    }
   ],
   "source": [
    "print(add_context(\"What is Rellm?\"))"
   ]
  },
  {
   "cell_type": "code",
   "execution_count": 77,
   "metadata": {},
   "outputs": [],
   "source": [
    "# Chat function\n",
    "\n",
    "def chat(msg, history):\n",
    "    messages = [{\"role\":\"system\",\"content\":system_message}]\n",
    "    message = add_context(msg)\n",
    "    messages.append({\"role\":\"user\", \"content\":message})\n",
    "\n",
    "    stream = openai.chat.completions.create(model=MODEL_NAME, messages=messages, stream=True)\n",
    "    response = \"\"\n",
    "    for chunk in stream:\n",
    "        response += chunk.choices[0].delta.content or ''\n",
    "        yield response"
   ]
  },
  {
   "cell_type": "code",
   "execution_count": 78,
   "metadata": {},
   "outputs": [
    {
     "name": "stdout",
     "output_type": "stream",
     "text": [
      "* Running on local URL:  http://127.0.0.1:7869\n",
      "\n",
      "To create a public link, set `share=True` in `launch()`.\n"
     ]
    },
    {
     "data": {
      "text/html": [
       "<div><iframe src=\"http://127.0.0.1:7869/\" width=\"100%\" height=\"500\" allow=\"autoplay; camera; microphone; clipboard-read; clipboard-write;\" frameborder=\"0\" allowfullscreen></iframe></div>"
      ],
      "text/plain": [
       "<IPython.core.display.HTML object>"
      ]
     },
     "metadata": {},
     "output_type": "display_data"
    }
   ],
   "source": [
    "# Set up the Gradio Interface\n",
    "view = gr.ChatInterface(chat, type=\"messages\").launch()"
   ]
  },
  {
   "cell_type": "code",
   "execution_count": null,
   "metadata": {},
   "outputs": [],
   "source": []
  }
 ],
 "metadata": {
  "kernelspec": {
   "display_name": "rag_projects_env",
   "language": "python",
   "name": "python3"
  },
  "language_info": {
   "codemirror_mode": {
    "name": "ipython",
    "version": 3
   },
   "file_extension": ".py",
   "mimetype": "text/x-python",
   "name": "python",
   "nbconvert_exporter": "python",
   "pygments_lexer": "ipython3",
   "version": "3.10.16"
  }
 },
 "nbformat": 4,
 "nbformat_minor": 2
}
